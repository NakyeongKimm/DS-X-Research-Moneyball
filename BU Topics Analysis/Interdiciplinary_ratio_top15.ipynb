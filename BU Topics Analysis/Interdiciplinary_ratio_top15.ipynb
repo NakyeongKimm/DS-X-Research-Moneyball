{
  "nbformat": 4,
  "nbformat_minor": 0,
  "metadata": {
    "colab": {
      "provenance": []
    },
    "kernelspec": {
      "name": "python3",
      "display_name": "Python 3"
    },
    "language_info": {
      "name": "python"
    }
  },
  "cells": [
    {
      "cell_type": "code",
      "source": [
        "CATEGORY_MAPPING = {\n",
        "    \"Artificial Intelligence in Healthcare\": [\n",
        "        \"Artificial Intelligence in Healthcare\",\n",
        "        \"Artificial Intelligence in Healthcare and Education\",\n",
        "        \"Explainable Artificial Intelligence (XAI)\"\n",
        "    ],\n",
        "    \"AI in Service Interactions\": [\n",
        "        \"AI in Service Interactions\",\n",
        "        \"AI in cancer detection\"\n",
        "    ],\n",
        "    \"Advanced Mathematical Modeling in Engineering\": [\n",
        "        \"Advanced Mathematical Modeling in Engineering\",\n",
        "        \"Advanced Nanomaterials in Catalysis\",\n",
        "        \"Spectral Theory in Mathematical Physics\",\n",
        "        \"advanced mathematical theories\"\n",
        "    ],\n",
        "    \"Privacy-Preserving Technologies in Data\": [\"Privacy-Preserving Technologies in Data\"],\n",
        "    \"CAR-T cell therapy research\": [\"CAR-T cell therapy research\"],\n",
        "    \"FinTech, Crowdfunding, Digital Finance\": [\"FinTech, Crowdfunding, Digital Finance\"],\n",
        "    \"Robotic Path Planning Algorithms\": [\"Robotic Path Planning Algorithms\"],\n",
        "    \"Extraction and Separation Processes\": [\"Extraction and Separation Processes\"],\n",
        "    \"Electric Vehicles and Infrastructure\": [\"Electric Vehicles and Infrastructure\"],\n",
        "    \"Nanoplatforms for cancer theranostics\": [\"Nanoplatforms for cancer theranostics\"],\n",
        "    \"Environmental Sustainability in Business\": [\"Environmental Sustainability in Business\"],\n",
        "    \"BIM and Construction Integration\": [\"BIM and Construction Integration\"],\n",
        "    \"Stock Market Forecasting Methods\": [\"Stock Market Forecasting Methods\"],\n",
        "    \"Black Holes and Theoretical Physics\": [\n",
        "        \"Black Holes and Theoretical Physics\",\n",
        "        \"Cold Atom Physics and Bose-Einstein Condensates\",\n",
        "        \"Physics of Superconductivity and Magnetism\"\n",
        "    ],\n",
        "    \"Spectroscopy and Chemometric Analyses\": [\"Spectroscopy and Chemometric Analyses\"]\n",
        "}"
      ],
      "metadata": {
        "id": "HHaIUDBrZ48v"
      },
      "execution_count": 1,
      "outputs": []
    },
    {
      "cell_type": "code",
      "source": [
        "import pandas as pd\n",
        "import numpy as np\n",
        "\n",
        "column_indices_to_force_str = [21, 34, 53, 54, 66, 67, 108, 112, 113, 175, 176, 177, 178, 179, 180, 181, 182]\n",
        "dtype_specification = {col: str for col in column_indices_to_force_str}\n",
        "df_2021 = pd.read_csv('/content/drive/MyDrive/hack/2021_t15.csv', dtype=dtype_specification)"
      ],
      "metadata": {
        "id": "_q4pk8TSZ4Q9"
      },
      "execution_count": 2,
      "outputs": []
    },
    {
      "cell_type": "code",
      "source": [
        "column_indices_to_force_str = [1,2,3,4,5,6,7,8,9,11,12,13,14,15,16,17,18,19,20,22,23,24,25,26,27,28,29,30,31,32,33,35,36,37,38,39,40,41,42,43,44,45,46,47,48,49,50,51,52,55,56,57,59,61,62,63,68,69,70,71,73,74,75,76,77,78,80,81,82,83,84,85,86,87,88,89,90,91,92,93,94,95,96,97,98,99,100,101,104,107,114,115,116,117,118,119,120,121,122,123,124,125,126,127,128,129,130,131,132,133,134,135,136,137,138,139,140,141,142,143,144,145,146,147,148,149,150,151,152,153,154,155,156,157,158,159,160,161,162,163,164,165,166,167,168,169,170,171,172,173,174, 21,34,53,54,66,67,108,112,113,175,176,177,178,179]\n",
        "dtype_specification = {col: str for col in column_indices_to_force_str}\n",
        "df_2022 = pd.read_csv('/content/drive/MyDrive/hack/Copy of 2022_t15.csv', dtype=dtype_specification)"
      ],
      "metadata": {
        "id": "s-sBA5UZa_d8"
      },
      "execution_count": 3,
      "outputs": []
    },
    {
      "cell_type": "code",
      "source": [
        "column_indices_to_force_str = [22,60,61,109,110,111, 21,175,176,177,178,179,180]\n",
        "dtype_specification = {col: str for col in column_indices_to_force_str}\n",
        "df_2023 = pd.read_csv('/content/drive/MyDrive/hack/Copy of 2023_t15.csv', dtype=dtype_specification)"
      ],
      "metadata": {
        "id": "1TCVi3rUbAAN"
      },
      "execution_count": 4,
      "outputs": []
    },
    {
      "cell_type": "code",
      "source": [
        "column_indices_to_force_str = [23,58,59,171,172,173,174, 22,109,175,176,177,178]\n",
        "dtype_specification = {col: str for col in column_indices_to_force_str}\n",
        "df_2024 = pd.read_csv('/content/drive/MyDrive/hack/Copy of 2024_t15.csv', dtype=dtype_specification)"
      ],
      "metadata": {
        "id": "B2kRgTERbDMt"
      },
      "execution_count": 5,
      "outputs": []
    },
    {
      "cell_type": "code",
      "source": [
        "column_indices_to_force_str = [36,60,61,79,88, 109,172,173]\n",
        "dtype_specification = {col: str for col in column_indices_to_force_str}\n",
        "df_2025 = pd.read_csv('/content/drive/MyDrive/hack/Copy of 2025_t15.csv', dtype=dtype_specification)"
      ],
      "metadata": {
        "id": "69JonwENbGef"
      },
      "execution_count": 6,
      "outputs": []
    },
    {
      "cell_type": "code",
      "source": [
        "df_2021_1 = df_2021[['primary_topic.display_name', 'topics.domain.display_name']]\n",
        "df_2022_1 = df_2022[['primary_topic.display_name', 'topics.domain.display_name']]\n",
        "df_2023_1 = df_2023[['primary_topic.display_name', 'topics.domain.display_name']]\n",
        "df_2024_1 = df_2024[['primary_topic.display_name', 'topics.domain.display_name']]\n",
        "df_2025_1 = df_2025[['primary_topic.display_name', 'topics.domain.display_name']]"
      ],
      "metadata": {
        "id": "B0Dob-sIbMZV"
      },
      "execution_count": 7,
      "outputs": []
    },
    {
      "cell_type": "code",
      "source": [
        "df_list = [df_2021_1, df_2022_1, df_2023_1, df_2024_1, df_2025_1]\n",
        "df = pd.concat(df_list, ignore_index=True)\n",
        "print(df.head())"
      ],
      "metadata": {
        "colab": {
          "base_uri": "https://localhost:8080/"
        },
        "id": "k8-f3Tx6bMTc",
        "outputId": "b5214954-f316-49ac-e2fe-be01edc680b2"
      },
      "execution_count": 8,
      "outputs": [
        {
          "output_type": "stream",
          "name": "stdout",
          "text": [
            "                   primary_topic.display_name  \\\n",
            "0                 CAR-T cell therapy research   \n",
            "1                 CAR-T cell therapy research   \n",
            "2  Physics of Superconductivity and Magnetism   \n",
            "3       Nanoplatforms for cancer theranostics   \n",
            "4                 CAR-T cell therapy research   \n",
            "\n",
            "                          topics.domain.display_name  \n",
            "0    Health Sciences|Physical Sciences|Life Sciences  \n",
            "1      Health Sciences|Health Sciences|Life Sciences  \n",
            "2                                  Physical Sciences  \n",
            "3  Physical Sciences|Health Sciences|Physical Sci...  \n",
            "4    Health Sciences|Life Sciences|Physical Sciences  \n"
          ]
        }
      ]
    },
    {
      "cell_type": "markdown",
      "source": [
        "# values\n"
      ],
      "metadata": {
        "id": "1TMbR964f0kR"
      }
    },
    {
      "cell_type": "code",
      "source": [
        "all_keys = list(CATEGORY_MAPPING.keys())\n",
        "\n",
        "def interdisciplinary_cal(df, key_number):\n",
        "\n",
        "      mask = df['primary_topic.display_name'].isin(list(CATEGORY_MAPPING[all_keys[key_number]]))\n",
        "      df_mask = df[mask].astype(str)\n",
        "\n",
        "      cumulative_distinct_list = []\n",
        "\n",
        "      for i in range(len(df_mask)):\n",
        "          current_distinct_values = set()\n",
        "\n",
        "          cell_data = df_mask['topics.domain.display_name'].iloc[i]\n",
        "\n",
        "          a = [domain.strip() for domain in cell_data.split('|')]\n",
        "\n",
        "          current_distinct_values.update(a)\n",
        "          cumulative_distinct_list.append(list(current_distinct_values))\n",
        "\n",
        "      df_mask['cumulative_distinct_domains'] = cumulative_distinct_list\n",
        "\n",
        "      df_mask['Domain_Count'] = df_mask['cumulative_distinct_domains'].apply(len)\n",
        "\n",
        "      interdisciplinary_mask = df_mask['Domain_Count'] >= 2\n",
        "      df_interdisciplinary = df_mask[interdisciplinary_mask].copy()\n",
        "\n",
        "      monodisciplinary_mask = df_mask['Domain_Count'] <= 1\n",
        "      df_monodisciplinary = df_mask[monodisciplinary_mask].copy()\n",
        "\n",
        "      df_interdiciplinary_value = len(df_interdisciplinary) / len(df_mask) * 100\n",
        "\n",
        "      return (df_interdiciplinary_value)\n"
      ],
      "metadata": {
        "id": "hlzaFDvqkSzQ"
      },
      "execution_count": 62,
      "outputs": []
    },
    {
      "cell_type": "code",
      "source": [
        "df_top1 = interdisciplinary_cal(df, 0)\n",
        "df_top2 = interdisciplinary_cal(df, 1)\n",
        "df_top3 = interdisciplinary_cal(df, 2)\n",
        "df_top4 = interdisciplinary_cal(df, 3)\n",
        "df_top5 = interdisciplinary_cal(df, 4)\n",
        "df_top6 = interdisciplinary_cal(df, 5)\n",
        "df_top7 = interdisciplinary_cal(df, 6)\n",
        "df_top8 = interdisciplinary_cal(df, 7)\n",
        "df_top9 = interdisciplinary_cal(df, 8)\n",
        "df_top10 = interdisciplinary_cal(df, 9)\n",
        "df_top11 = interdisciplinary_cal(df, 10)\n",
        "df_top12 = interdisciplinary_cal(df, 11)\n",
        "df_top13 = interdisciplinary_cal(df, 12)\n",
        "df_top14 = interdisciplinary_cal(df, 13)\n",
        "df_top15 = interdisciplinary_cal(df, 14)"
      ],
      "metadata": {
        "id": "WBEBIO71lp7E"
      },
      "execution_count": 63,
      "outputs": []
    },
    {
      "cell_type": "code",
      "source": [
        "values_csv = [df_top1, df_top2, df_top3, df_top4, df_top5, df_top6,df_top7,\n",
        "     df_top8, df_top9, df_top10, df_top11, df_top12, df_top13, df_top14, df_top15]"
      ],
      "metadata": {
        "id": "MoMalEJ3h4vw"
      },
      "execution_count": 64,
      "outputs": []
    },
    {
      "cell_type": "code",
      "source": [
        "values_csv"
      ],
      "metadata": {
        "colab": {
          "base_uri": "https://localhost:8080/"
        },
        "id": "wUyJXvuIpTJr",
        "outputId": "6fc2f144-c592-4261-9224-d27ec3c91caa"
      },
      "execution_count": 65,
      "outputs": [
        {
          "output_type": "execute_result",
          "data": {
            "text/plain": [
              "[53.16244150768756,\n",
              " 80.49565497264241,\n",
              " 30.513797364085665,\n",
              " 32.545068202070055,\n",
              " 79.03018625561978,\n",
              " 32.09469018202395,\n",
              " 1.9572535817740548,\n",
              " 2.2882254887104105,\n",
              " 7.413260541627757,\n",
              " 64.37278987530244,\n",
              " 35.42015400066957,\n",
              " 37.783300198807154,\n",
              " 56.43250850240413,\n",
              " 0.442963212959838,\n",
              " 58.310145911096036]"
            ]
          },
          "metadata": {},
          "execution_count": 65
        }
      ]
    },
    {
      "cell_type": "code",
      "source": [
        "values_csv = pd.DataFrame(values_csv, columns=['interdiciplinary_ratio'])\n",
        "print(values_csv)\n",
        "values_csv.to_csv(\"/content/drive/MyDrive/hack/inter_ratio.csv\", index=False)"
      ],
      "metadata": {
        "colab": {
          "base_uri": "https://localhost:8080/"
        },
        "id": "PLKaJQaXpUrb",
        "outputId": "bde0768f-ec1b-46ea-af46-f6899632c5e4"
      },
      "execution_count": 66,
      "outputs": [
        {
          "output_type": "stream",
          "name": "stdout",
          "text": [
            "    interdiciplinary_ratio\n",
            "0                53.162442\n",
            "1                80.495655\n",
            "2                30.513797\n",
            "3                32.545068\n",
            "4                79.030186\n",
            "5                32.094690\n",
            "6                 1.957254\n",
            "7                 2.288225\n",
            "8                 7.413261\n",
            "9                64.372790\n",
            "10               35.420154\n",
            "11               37.783300\n",
            "12               56.432509\n",
            "13                0.442963\n",
            "14               58.310146\n"
          ]
        }
      ]
    },
    {
      "cell_type": "code",
      "source": [
        "X_min = values_csv['interdiciplinary_ratio'].min()\n",
        "X_max = values_csv['interdiciplinary_ratio'].max()\n",
        "\n",
        "values_csv['MinMax_Scaled_Weight'] = (values_csv['interdiciplinary_ratio'] - X_min) / (X_max - X_min)"
      ],
      "metadata": {
        "id": "coHPlCZsmhz_"
      },
      "execution_count": 67,
      "outputs": []
    },
    {
      "cell_type": "code",
      "source": [
        "values_csv[['interdiciplinary_ratio', 'MinMax_Scaled_Weight']]"
      ],
      "metadata": {
        "colab": {
          "base_uri": "https://localhost:8080/",
          "height": 519
        },
        "id": "PrZoGngziNKk",
        "outputId": "447897e2-8360-45a3-af75-2e2ffe74de0c"
      },
      "execution_count": 68,
      "outputs": [
        {
          "output_type": "execute_result",
          "data": {
            "text/plain": [
              "    interdiciplinary_ratio  MinMax_Scaled_Weight\n",
              "0                53.162442              0.658560\n",
              "1                80.495655              1.000000\n",
              "2                30.513797              0.375638\n",
              "3                32.545068              0.401012\n",
              "4                79.030186              0.981694\n",
              "5                32.094690              0.395386\n",
              "6                 1.957254              0.018916\n",
              "7                 2.288225              0.023051\n",
              "8                 7.413261              0.087071\n",
              "9                64.372790              0.798597\n",
              "10               35.420154              0.436927\n",
              "11               37.783300              0.466447\n",
              "12               56.432509              0.699409\n",
              "13                0.442963              0.000000\n",
              "14               58.310146              0.722864"
            ],
            "text/html": [
              "\n",
              "  <div id=\"df-7cd16755-450c-4fb5-8a57-c2866349e20d\" class=\"colab-df-container\">\n",
              "    <div>\n",
              "<style scoped>\n",
              "    .dataframe tbody tr th:only-of-type {\n",
              "        vertical-align: middle;\n",
              "    }\n",
              "\n",
              "    .dataframe tbody tr th {\n",
              "        vertical-align: top;\n",
              "    }\n",
              "\n",
              "    .dataframe thead th {\n",
              "        text-align: right;\n",
              "    }\n",
              "</style>\n",
              "<table border=\"1\" class=\"dataframe\">\n",
              "  <thead>\n",
              "    <tr style=\"text-align: right;\">\n",
              "      <th></th>\n",
              "      <th>interdiciplinary_ratio</th>\n",
              "      <th>MinMax_Scaled_Weight</th>\n",
              "    </tr>\n",
              "  </thead>\n",
              "  <tbody>\n",
              "    <tr>\n",
              "      <th>0</th>\n",
              "      <td>53.162442</td>\n",
              "      <td>0.658560</td>\n",
              "    </tr>\n",
              "    <tr>\n",
              "      <th>1</th>\n",
              "      <td>80.495655</td>\n",
              "      <td>1.000000</td>\n",
              "    </tr>\n",
              "    <tr>\n",
              "      <th>2</th>\n",
              "      <td>30.513797</td>\n",
              "      <td>0.375638</td>\n",
              "    </tr>\n",
              "    <tr>\n",
              "      <th>3</th>\n",
              "      <td>32.545068</td>\n",
              "      <td>0.401012</td>\n",
              "    </tr>\n",
              "    <tr>\n",
              "      <th>4</th>\n",
              "      <td>79.030186</td>\n",
              "      <td>0.981694</td>\n",
              "    </tr>\n",
              "    <tr>\n",
              "      <th>5</th>\n",
              "      <td>32.094690</td>\n",
              "      <td>0.395386</td>\n",
              "    </tr>\n",
              "    <tr>\n",
              "      <th>6</th>\n",
              "      <td>1.957254</td>\n",
              "      <td>0.018916</td>\n",
              "    </tr>\n",
              "    <tr>\n",
              "      <th>7</th>\n",
              "      <td>2.288225</td>\n",
              "      <td>0.023051</td>\n",
              "    </tr>\n",
              "    <tr>\n",
              "      <th>8</th>\n",
              "      <td>7.413261</td>\n",
              "      <td>0.087071</td>\n",
              "    </tr>\n",
              "    <tr>\n",
              "      <th>9</th>\n",
              "      <td>64.372790</td>\n",
              "      <td>0.798597</td>\n",
              "    </tr>\n",
              "    <tr>\n",
              "      <th>10</th>\n",
              "      <td>35.420154</td>\n",
              "      <td>0.436927</td>\n",
              "    </tr>\n",
              "    <tr>\n",
              "      <th>11</th>\n",
              "      <td>37.783300</td>\n",
              "      <td>0.466447</td>\n",
              "    </tr>\n",
              "    <tr>\n",
              "      <th>12</th>\n",
              "      <td>56.432509</td>\n",
              "      <td>0.699409</td>\n",
              "    </tr>\n",
              "    <tr>\n",
              "      <th>13</th>\n",
              "      <td>0.442963</td>\n",
              "      <td>0.000000</td>\n",
              "    </tr>\n",
              "    <tr>\n",
              "      <th>14</th>\n",
              "      <td>58.310146</td>\n",
              "      <td>0.722864</td>\n",
              "    </tr>\n",
              "  </tbody>\n",
              "</table>\n",
              "</div>\n",
              "    <div class=\"colab-df-buttons\">\n",
              "\n",
              "  <div class=\"colab-df-container\">\n",
              "    <button class=\"colab-df-convert\" onclick=\"convertToInteractive('df-7cd16755-450c-4fb5-8a57-c2866349e20d')\"\n",
              "            title=\"Convert this dataframe to an interactive table.\"\n",
              "            style=\"display:none;\">\n",
              "\n",
              "  <svg xmlns=\"http://www.w3.org/2000/svg\" height=\"24px\" viewBox=\"0 -960 960 960\">\n",
              "    <path d=\"M120-120v-720h720v720H120Zm60-500h600v-160H180v160Zm220 220h160v-160H400v160Zm0 220h160v-160H400v160ZM180-400h160v-160H180v160Zm440 0h160v-160H620v160ZM180-180h160v-160H180v160Zm440 0h160v-160H620v160Z\"/>\n",
              "  </svg>\n",
              "    </button>\n",
              "\n",
              "  <style>\n",
              "    .colab-df-container {\n",
              "      display:flex;\n",
              "      gap: 12px;\n",
              "    }\n",
              "\n",
              "    .colab-df-convert {\n",
              "      background-color: #E8F0FE;\n",
              "      border: none;\n",
              "      border-radius: 50%;\n",
              "      cursor: pointer;\n",
              "      display: none;\n",
              "      fill: #1967D2;\n",
              "      height: 32px;\n",
              "      padding: 0 0 0 0;\n",
              "      width: 32px;\n",
              "    }\n",
              "\n",
              "    .colab-df-convert:hover {\n",
              "      background-color: #E2EBFA;\n",
              "      box-shadow: 0px 1px 2px rgba(60, 64, 67, 0.3), 0px 1px 3px 1px rgba(60, 64, 67, 0.15);\n",
              "      fill: #174EA6;\n",
              "    }\n",
              "\n",
              "    .colab-df-buttons div {\n",
              "      margin-bottom: 4px;\n",
              "    }\n",
              "\n",
              "    [theme=dark] .colab-df-convert {\n",
              "      background-color: #3B4455;\n",
              "      fill: #D2E3FC;\n",
              "    }\n",
              "\n",
              "    [theme=dark] .colab-df-convert:hover {\n",
              "      background-color: #434B5C;\n",
              "      box-shadow: 0px 1px 3px 1px rgba(0, 0, 0, 0.15);\n",
              "      filter: drop-shadow(0px 1px 2px rgba(0, 0, 0, 0.3));\n",
              "      fill: #FFFFFF;\n",
              "    }\n",
              "  </style>\n",
              "\n",
              "    <script>\n",
              "      const buttonEl =\n",
              "        document.querySelector('#df-7cd16755-450c-4fb5-8a57-c2866349e20d button.colab-df-convert');\n",
              "      buttonEl.style.display =\n",
              "        google.colab.kernel.accessAllowed ? 'block' : 'none';\n",
              "\n",
              "      async function convertToInteractive(key) {\n",
              "        const element = document.querySelector('#df-7cd16755-450c-4fb5-8a57-c2866349e20d');\n",
              "        const dataTable =\n",
              "          await google.colab.kernel.invokeFunction('convertToInteractive',\n",
              "                                                    [key], {});\n",
              "        if (!dataTable) return;\n",
              "\n",
              "        const docLinkHtml = 'Like what you see? Visit the ' +\n",
              "          '<a target=\"_blank\" href=https://colab.research.google.com/notebooks/data_table.ipynb>data table notebook</a>'\n",
              "          + ' to learn more about interactive tables.';\n",
              "        element.innerHTML = '';\n",
              "        dataTable['output_type'] = 'display_data';\n",
              "        await google.colab.output.renderOutput(dataTable, element);\n",
              "        const docLink = document.createElement('div');\n",
              "        docLink.innerHTML = docLinkHtml;\n",
              "        element.appendChild(docLink);\n",
              "      }\n",
              "    </script>\n",
              "  </div>\n",
              "\n",
              "\n",
              "    <div id=\"df-5ccdf509-8cdb-419c-9514-a0e90e1323b3\">\n",
              "      <button class=\"colab-df-quickchart\" onclick=\"quickchart('df-5ccdf509-8cdb-419c-9514-a0e90e1323b3')\"\n",
              "                title=\"Suggest charts\"\n",
              "                style=\"display:none;\">\n",
              "\n",
              "<svg xmlns=\"http://www.w3.org/2000/svg\" height=\"24px\"viewBox=\"0 0 24 24\"\n",
              "     width=\"24px\">\n",
              "    <g>\n",
              "        <path d=\"M19 3H5c-1.1 0-2 .9-2 2v14c0 1.1.9 2 2 2h14c1.1 0 2-.9 2-2V5c0-1.1-.9-2-2-2zM9 17H7v-7h2v7zm4 0h-2V7h2v10zm4 0h-2v-4h2v4z\"/>\n",
              "    </g>\n",
              "</svg>\n",
              "      </button>\n",
              "\n",
              "<style>\n",
              "  .colab-df-quickchart {\n",
              "      --bg-color: #E8F0FE;\n",
              "      --fill-color: #1967D2;\n",
              "      --hover-bg-color: #E2EBFA;\n",
              "      --hover-fill-color: #174EA6;\n",
              "      --disabled-fill-color: #AAA;\n",
              "      --disabled-bg-color: #DDD;\n",
              "  }\n",
              "\n",
              "  [theme=dark] .colab-df-quickchart {\n",
              "      --bg-color: #3B4455;\n",
              "      --fill-color: #D2E3FC;\n",
              "      --hover-bg-color: #434B5C;\n",
              "      --hover-fill-color: #FFFFFF;\n",
              "      --disabled-bg-color: #3B4455;\n",
              "      --disabled-fill-color: #666;\n",
              "  }\n",
              "\n",
              "  .colab-df-quickchart {\n",
              "    background-color: var(--bg-color);\n",
              "    border: none;\n",
              "    border-radius: 50%;\n",
              "    cursor: pointer;\n",
              "    display: none;\n",
              "    fill: var(--fill-color);\n",
              "    height: 32px;\n",
              "    padding: 0;\n",
              "    width: 32px;\n",
              "  }\n",
              "\n",
              "  .colab-df-quickchart:hover {\n",
              "    background-color: var(--hover-bg-color);\n",
              "    box-shadow: 0 1px 2px rgba(60, 64, 67, 0.3), 0 1px 3px 1px rgba(60, 64, 67, 0.15);\n",
              "    fill: var(--button-hover-fill-color);\n",
              "  }\n",
              "\n",
              "  .colab-df-quickchart-complete:disabled,\n",
              "  .colab-df-quickchart-complete:disabled:hover {\n",
              "    background-color: var(--disabled-bg-color);\n",
              "    fill: var(--disabled-fill-color);\n",
              "    box-shadow: none;\n",
              "  }\n",
              "\n",
              "  .colab-df-spinner {\n",
              "    border: 2px solid var(--fill-color);\n",
              "    border-color: transparent;\n",
              "    border-bottom-color: var(--fill-color);\n",
              "    animation:\n",
              "      spin 1s steps(1) infinite;\n",
              "  }\n",
              "\n",
              "  @keyframes spin {\n",
              "    0% {\n",
              "      border-color: transparent;\n",
              "      border-bottom-color: var(--fill-color);\n",
              "      border-left-color: var(--fill-color);\n",
              "    }\n",
              "    20% {\n",
              "      border-color: transparent;\n",
              "      border-left-color: var(--fill-color);\n",
              "      border-top-color: var(--fill-color);\n",
              "    }\n",
              "    30% {\n",
              "      border-color: transparent;\n",
              "      border-left-color: var(--fill-color);\n",
              "      border-top-color: var(--fill-color);\n",
              "      border-right-color: var(--fill-color);\n",
              "    }\n",
              "    40% {\n",
              "      border-color: transparent;\n",
              "      border-right-color: var(--fill-color);\n",
              "      border-top-color: var(--fill-color);\n",
              "    }\n",
              "    60% {\n",
              "      border-color: transparent;\n",
              "      border-right-color: var(--fill-color);\n",
              "    }\n",
              "    80% {\n",
              "      border-color: transparent;\n",
              "      border-right-color: var(--fill-color);\n",
              "      border-bottom-color: var(--fill-color);\n",
              "    }\n",
              "    90% {\n",
              "      border-color: transparent;\n",
              "      border-bottom-color: var(--fill-color);\n",
              "    }\n",
              "  }\n",
              "</style>\n",
              "\n",
              "      <script>\n",
              "        async function quickchart(key) {\n",
              "          const quickchartButtonEl =\n",
              "            document.querySelector('#' + key + ' button');\n",
              "          quickchartButtonEl.disabled = true;  // To prevent multiple clicks.\n",
              "          quickchartButtonEl.classList.add('colab-df-spinner');\n",
              "          try {\n",
              "            const charts = await google.colab.kernel.invokeFunction(\n",
              "                'suggestCharts', [key], {});\n",
              "          } catch (error) {\n",
              "            console.error('Error during call to suggestCharts:', error);\n",
              "          }\n",
              "          quickchartButtonEl.classList.remove('colab-df-spinner');\n",
              "          quickchartButtonEl.classList.add('colab-df-quickchart-complete');\n",
              "        }\n",
              "        (() => {\n",
              "          let quickchartButtonEl =\n",
              "            document.querySelector('#df-5ccdf509-8cdb-419c-9514-a0e90e1323b3 button');\n",
              "          quickchartButtonEl.style.display =\n",
              "            google.colab.kernel.accessAllowed ? 'block' : 'none';\n",
              "        })();\n",
              "      </script>\n",
              "    </div>\n",
              "\n",
              "    </div>\n",
              "  </div>\n"
            ],
            "application/vnd.google.colaboratory.intrinsic+json": {
              "type": "dataframe",
              "summary": "{\n  \"name\": \"values_csv[['interdiciplinary_ratio', 'MinMax_Scaled_Weight']]\",\n  \"rows\": 15,\n  \"fields\": [\n    {\n      \"column\": \"interdiciplinary_ratio\",\n      \"properties\": {\n        \"dtype\": \"number\",\n        \"std\": 27.011325030251665,\n        \"min\": 0.442963212959838,\n        \"max\": 80.49565497264241,\n        \"num_unique_values\": 15,\n        \"samples\": [\n          64.37278987530244,\n          37.783300198807154,\n          53.16244150768756\n        ],\n        \"semantic_type\": \"\",\n        \"description\": \"\"\n      }\n    },\n    {\n      \"column\": \"MinMax_Scaled_Weight\",\n      \"properties\": {\n        \"dtype\": \"number\",\n        \"std\": 0.337419322654876,\n        \"min\": 0.0,\n        \"max\": 1.0,\n        \"num_unique_values\": 15,\n        \"samples\": [\n          0.7985968398696617,\n          0.4664469884153634,\n          0.6585597203026115\n        ],\n        \"semantic_type\": \"\",\n        \"description\": \"\"\n      }\n    }\n  ]\n}"
            }
          },
          "metadata": {},
          "execution_count": 68
        }
      ]
    }
  ]
}